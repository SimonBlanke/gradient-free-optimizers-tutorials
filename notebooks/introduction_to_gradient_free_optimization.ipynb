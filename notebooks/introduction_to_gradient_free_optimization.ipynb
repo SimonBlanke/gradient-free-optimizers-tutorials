{
 "cells": [
  {
   "cell_type": "markdown",
   "id": "17acd0e5",
   "metadata": {},
   "source": [
    "<p align=\"center\">\n",
    "  <a href=\"https://github.com/SimonBlanke/Gradient-Free-Optimizers\"><img src=\"./images/gradient_logo_ink.png\" width=\"500px\"></a>\n",
    "</p>"
   ]
  },
  {
   "cell_type": "markdown",
   "id": "883e2ea6",
   "metadata": {},
   "source": [
    "# Introduction to gradient free optimization"
   ]
  },
  {
   "cell_type": "code",
   "execution_count": null,
   "id": "a312ce65",
   "metadata": {},
   "outputs": [],
   "source": []
  },
  {
   "cell_type": "markdown",
   "id": "0223f0d6",
   "metadata": {},
   "source": [
    "## What is gradient free optimization?"
   ]
  },
  {
   "cell_type": "code",
   "execution_count": null,
   "id": "c7e24b05",
   "metadata": {},
   "outputs": [],
   "source": []
  },
  {
   "cell_type": "code",
   "execution_count": null,
   "id": "033027a5",
   "metadata": {},
   "outputs": [],
   "source": []
  },
  {
   "cell_type": "markdown",
   "id": "86d752c3",
   "metadata": {},
   "source": [
    "## The objective function"
   ]
  },
  {
   "cell_type": "markdown",
   "id": "35e96808",
   "metadata": {},
   "source": [
    "## The search space"
   ]
  },
  {
   "cell_type": "code",
   "execution_count": null,
   "id": "749dfa1b",
   "metadata": {},
   "outputs": [],
   "source": []
  },
  {
   "cell_type": "code",
   "execution_count": null,
   "id": "bfb0a839",
   "metadata": {},
   "outputs": [],
   "source": []
  },
  {
   "cell_type": "code",
   "execution_count": null,
   "id": "93c9d1bc",
   "metadata": {},
   "outputs": [],
   "source": []
  },
  {
   "cell_type": "code",
   "execution_count": null,
   "id": "44d5fa20",
   "metadata": {},
   "outputs": [],
   "source": []
  },
  {
   "cell_type": "code",
   "execution_count": null,
   "id": "c923275d",
   "metadata": {},
   "outputs": [],
   "source": []
  },
  {
   "cell_type": "code",
   "execution_count": null,
   "id": "4262d927",
   "metadata": {},
   "outputs": [],
   "source": []
  },
  {
   "cell_type": "code",
   "execution_count": null,
   "id": "e9c9a613",
   "metadata": {},
   "outputs": [],
   "source": []
  }
 ],
 "metadata": {
  "kernelspec": {
   "display_name": "Python 3 (ipykernel)",
   "language": "python",
   "name": "python3"
  },
  "language_info": {
   "codemirror_mode": {
    "name": "ipython",
    "version": 3
   },
   "file_extension": ".py",
   "mimetype": "text/x-python",
   "name": "python",
   "nbconvert_exporter": "python",
   "pygments_lexer": "ipython3",
   "version": "3.8.5"
  }
 },
 "nbformat": 4,
 "nbformat_minor": 5
}
